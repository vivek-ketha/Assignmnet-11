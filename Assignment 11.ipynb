{
 "cells": [
  {
   "cell_type": "markdown",
   "id": "98a414a1",
   "metadata": {},
   "source": [
    "1.assert spam >= 10, 'The spam variable is less than 10.'\n",
    "\n",
    "2.assert eggs.lower() != bacon.lower(), 'The eggs and bacon variables are the same!' or assert eggs.upper() != bacon.upper(), 'The eggs and bacon variables are the same!'\n",
    "\n",
    "3.assert False, 'This assertion always triggers.'\n",
    "\n",
    "\n",
    "                    \n",
    "\n"
   ]
  },
  {
   "cell_type": "code",
   "execution_count": 5,
   "id": "5fd8c01e",
   "metadata": {},
   "outputs": [],
   "source": [
    "#4.To be able to call logging.debug(), you must have these two lines at the start of your program:\n",
    "import logging\n",
    "logging.basicConfig(level=logging.DEBUG, format=' %(asctime)s -%(levelname)s -  %(message)s')"
   ]
  },
  {
   "cell_type": "code",
   "execution_count": 4,
   "id": "7cf3aca0",
   "metadata": {},
   "outputs": [
    {
     "ename": "SyntaxError",
     "evalue": "invalid syntax (<ipython-input-4-1bffbf18e760>, line 4)",
     "output_type": "error",
     "traceback": [
      "\u001b[1;36m  File \u001b[1;32m\"<ipython-input-4-1bffbf18e760>\"\u001b[1;36m, line \u001b[1;32m4\u001b[0m\n\u001b[1;33m    >>> logging.basicConfig(filename='programLog.txt', level=logging.DEBUG,format=' %(asctime)s -  %(levelname)s -  %(message)s')\u001b[0m\n\u001b[1;37m    ^\u001b[0m\n\u001b[1;31mSyntaxError\u001b[0m\u001b[1;31m:\u001b[0m invalid syntax\n"
     ]
    }
   ],
   "source": [
    "#5.To be able to send logging messages to a file named programLog.txt with logging.debug(), you must have these two lines at the start of your program:\n",
    "\n",
    "import logging\n",
    ">>> logging.basicConfig(filename='programLog.txt', level=logging.DEBUG,format=' %(asctime)s -  %(levelname)s -  %(message)s')\n",
    "                    "
   ]
  },
  {
   "cell_type": "markdown",
   "id": "1b45c031",
   "metadata": {},
   "source": [
    "6.DEBUG, INFO, WARNING, ERROR, and CRITICAL\n",
    "\n",
    "7.logging.disable(logging.CRITICAL)\n",
    "\n",
    "8.You can disable logging messages without removing the logging function calls. You can selectively disable lower-level logging messages. You can create logging messages. Logging messages provides a timestamp.\n",
    "\n",
    "9.The Step button will move the debugger into a function call. The Over button will quickly execute the function call without stepping into it. The Out button will quickly execute the rest of the code until it steps out of the function it currently is in.\n",
    "\n",
    "10.After you click Go, the debugger will stop when it has reached the end of the program or a line with a breakpoint.\n",
    "\n",
    "11.A breakpoint is a setting on a line of code that causes the debugger to pause when the program execution reaches the line."
   ]
  }
 ],
 "metadata": {
  "kernelspec": {
   "display_name": "Python 3",
   "language": "python",
   "name": "python3"
  },
  "language_info": {
   "codemirror_mode": {
    "name": "ipython",
    "version": 3
   },
   "file_extension": ".py",
   "mimetype": "text/x-python",
   "name": "python",
   "nbconvert_exporter": "python",
   "pygments_lexer": "ipython3",
   "version": "3.8.8"
  }
 },
 "nbformat": 4,
 "nbformat_minor": 5
}
